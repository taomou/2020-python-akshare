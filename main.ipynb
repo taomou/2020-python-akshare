{
 "metadata": {
  "language_info": {
   "codemirror_mode": {
    "name": "ipython",
    "version": 3
   },
   "file_extension": ".py",
   "mimetype": "text/x-python",
   "name": "python",
   "nbconvert_exporter": "python",
   "pygments_lexer": "ipython3",
   "version": "3.6.8-final"
  },
  "orig_nbformat": 2,
  "kernelspec": {
   "name": "python3",
   "display_name": "Python 3"
  }
 },
 "nbformat": 4,
 "nbformat_minor": 2,
 "cells": [
  {
   "cell_type": "code",
   "execution_count": 2,
   "metadata": {},
   "outputs": [],
   "source": [
    "import tushare as ts\n",
    "ts.set_token('4de845bbd831e2dde55b2a41489b77360c7848c2663494e75313110a')"
   ]
  },
  {
   "cell_type": "code",
   "execution_count": 3,
   "metadata": {},
   "outputs": [],
   "source": [
    "pro = ts.pro_api()"
   ]
  },
  {
   "cell_type": "code",
   "execution_count": 9,
   "metadata": {},
   "outputs": [],
   "source": [
    "df = pro.trade_cal(exchange='', start_date='20180901', end_date='20181001', fields='exchange,cal_date,is_open,pretrade_date', is_open='0')"
   ]
  },
  {
   "cell_type": "code",
   "execution_count": 11,
   "metadata": {},
   "outputs": [
    {
     "output_type": "execute_result",
     "data": {
      "text/plain": "        ts_code  symbol    name area industry list_date\n0     000001.SZ  000001    平安银行   深圳       银行  19910403\n1     000002.SZ  000002     万科A   深圳     全国地产  19910129\n2     000004.SZ  000004    国农科技   深圳     生物制药  19910114\n3     000005.SZ  000005    世纪星源   深圳     环境保护  19901210\n4     000006.SZ  000006    深振业A   深圳     区域地产  19920427\n5     000007.SZ  000007     全新好   深圳     酒店餐饮  19920413\n6     000008.SZ  000008    神州高铁   北京     运输设备  19920507\n7     000009.SZ  000009    中国宝安   深圳      综合类  19910625\n8     000010.SZ  000010    美丽生态   深圳     建筑工程  19951027\n9     000011.SZ  000011    深物业A   深圳     区域地产  19920330\n10    000012.SZ  000012     南玻A   深圳       玻璃  19920228\n11    000014.SZ  000014    沙河股份   深圳     全国地产  19920602\n12    000016.SZ  000016    深康佳A   深圳     家用电器  19920327\n13    000017.SZ  000017  *ST中华A   深圳     文教休闲  19920331\n14    000019.SZ  000019    深粮控股   深圳     其他商业  19921012\n15    000020.SZ  000020    深华发A   深圳      元器件  19920428\n16    000021.SZ  000021     深科技   深圳     IT设备  19940202\n17    000023.SZ  000023    深天地A   深圳     其他建材  19930429\n18    000025.SZ  000025     特力A   深圳     汽车服务  19930621\n19    000026.SZ  000026     飞亚达   深圳     其他商业  19930603\n20    000027.SZ  000027    深圳能源   深圳     火力发电  19930903\n21    000028.SZ  000028    国药一致   深圳     医药商业  19930809\n22    000029.SZ  000029    深深房A   深圳     区域地产  19930915\n23    000030.SZ  000030    富奥股份   吉林     汽车配件  19930929\n24    000031.SZ  000031     大悦城   深圳     全国地产  19931008\n25    000032.SZ  000032    深桑达A   深圳      元器件  19931028\n26    000034.SZ  000034    神州数码   深圳      综合类  19940509\n27    000035.SZ  000035    中国天楹   江苏     环境保护  19940408\n28    000036.SZ  000036    华联控股   深圳     全国地产  19940617\n29    000037.SZ  000037    深南电A   深圳     火力发电  19940701\n...         ...     ...     ...  ...      ...       ...\n3872  688377.SH  688377     迪威尔   江苏     专用机械  20200708\n3873  688388.SH  688388    嘉元科技   广东      元器件  20190722\n3874  688389.SH  688389    普门科技   深圳     医疗保健  20191105\n3875  688396.SH  688396     华润微   江苏      元器件  20200227\n3876  688398.SH  688398    赛特新材   福建     矿物制品  20200211\n3877  688399.SH  688399    硕世生物   江苏     医疗保健  20191205\n3878  688418.SH  688418     N震有   深圳     通信设备  20200722\n3879  688466.SH  688466    金科环境   北京     环境保护  20200508\n3880  688488.SH  688488    艾迪药业   江苏     生物制药  20200720\n3881  688500.SH  688500    慧辰资讯   北京      互联网  20200716\n3882  688505.SH  688505    复旦张江   上海     化学制药  20200619\n3883  688508.SH  688508    N芯朋微   江苏      半导体  20200722\n3884  688516.SH  688516     奥特维   江苏     专用机械  20200521\n3885  688518.SH  688518    联赢激光   深圳     专用机械  20200622\n3886  688520.SH  688520  神州细胞-U   北京     生物制药  20200622\n3887  688528.SH  688528    秦川物联   四川     电器仪表  20200701\n3888  688555.SH  688555    泽达易盛   天津     软件服务  20200623\n3889  688558.SH  688558    国盛智科   江苏     机床制造  20200630\n3890  688561.SH  688561  N奇安信-U   北京     软件服务  20200722\n3891  688566.SH  688566     吉贝尔   江苏     化学制药  20200518\n3892  688567.SH  688567    孚能科技   江西     电气设备  20200717\n3893  688568.SH  688568    中科星图   北京     软件服务  20200708\n3894  688579.SH  688579    山大地纬   山东     软件服务  20200717\n3895  688580.SH  688580    伟思医疗   江苏     医疗保健  20200721\n3896  688588.SH  688588    凌志软件   江苏     软件服务  20200511\n3897  688589.SH  688589    N力合微   深圳      半导体  20200722\n3898  688598.SH  688598    金博股份   湖南     矿物制品  20200518\n3899  688599.SH  688599    天合光能   江苏     电气设备  20200610\n3900  688600.SH  688600    皖仪科技   安徽     电器仪表  20200703\n3901  688981.SH  688981  中芯国际-U   上海      半导体  20200716\n\n[3902 rows x 6 columns]",
      "text/html": "<div>\n<style scoped>\n    .dataframe tbody tr th:only-of-type {\n        vertical-align: middle;\n    }\n\n    .dataframe tbody tr th {\n        vertical-align: top;\n    }\n\n    .dataframe thead th {\n        text-align: right;\n    }\n</style>\n<table border=\"1\" class=\"dataframe\">\n  <thead>\n    <tr style=\"text-align: right;\">\n      <th></th>\n      <th>ts_code</th>\n      <th>symbol</th>\n      <th>name</th>\n      <th>area</th>\n      <th>industry</th>\n      <th>list_date</th>\n    </tr>\n  </thead>\n  <tbody>\n    <tr>\n      <th>0</th>\n      <td>000001.SZ</td>\n      <td>000001</td>\n      <td>平安银行</td>\n      <td>深圳</td>\n      <td>银行</td>\n      <td>19910403</td>\n    </tr>\n    <tr>\n      <th>1</th>\n      <td>000002.SZ</td>\n      <td>000002</td>\n      <td>万科A</td>\n      <td>深圳</td>\n      <td>全国地产</td>\n      <td>19910129</td>\n    </tr>\n    <tr>\n      <th>2</th>\n      <td>000004.SZ</td>\n      <td>000004</td>\n      <td>国农科技</td>\n      <td>深圳</td>\n      <td>生物制药</td>\n      <td>19910114</td>\n    </tr>\n    <tr>\n      <th>3</th>\n      <td>000005.SZ</td>\n      <td>000005</td>\n      <td>世纪星源</td>\n      <td>深圳</td>\n      <td>环境保护</td>\n      <td>19901210</td>\n    </tr>\n    <tr>\n      <th>4</th>\n      <td>000006.SZ</td>\n      <td>000006</td>\n      <td>深振业A</td>\n      <td>深圳</td>\n      <td>区域地产</td>\n      <td>19920427</td>\n    </tr>\n    <tr>\n      <th>5</th>\n      <td>000007.SZ</td>\n      <td>000007</td>\n      <td>全新好</td>\n      <td>深圳</td>\n      <td>酒店餐饮</td>\n      <td>19920413</td>\n    </tr>\n    <tr>\n      <th>6</th>\n      <td>000008.SZ</td>\n      <td>000008</td>\n      <td>神州高铁</td>\n      <td>北京</td>\n      <td>运输设备</td>\n      <td>19920507</td>\n    </tr>\n    <tr>\n      <th>7</th>\n      <td>000009.SZ</td>\n      <td>000009</td>\n      <td>中国宝安</td>\n      <td>深圳</td>\n      <td>综合类</td>\n      <td>19910625</td>\n    </tr>\n    <tr>\n      <th>8</th>\n      <td>000010.SZ</td>\n      <td>000010</td>\n      <td>美丽生态</td>\n      <td>深圳</td>\n      <td>建筑工程</td>\n      <td>19951027</td>\n    </tr>\n    <tr>\n      <th>9</th>\n      <td>000011.SZ</td>\n      <td>000011</td>\n      <td>深物业A</td>\n      <td>深圳</td>\n      <td>区域地产</td>\n      <td>19920330</td>\n    </tr>\n    <tr>\n      <th>10</th>\n      <td>000012.SZ</td>\n      <td>000012</td>\n      <td>南玻A</td>\n      <td>深圳</td>\n      <td>玻璃</td>\n      <td>19920228</td>\n    </tr>\n    <tr>\n      <th>11</th>\n      <td>000014.SZ</td>\n      <td>000014</td>\n      <td>沙河股份</td>\n      <td>深圳</td>\n      <td>全国地产</td>\n      <td>19920602</td>\n    </tr>\n    <tr>\n      <th>12</th>\n      <td>000016.SZ</td>\n      <td>000016</td>\n      <td>深康佳A</td>\n      <td>深圳</td>\n      <td>家用电器</td>\n      <td>19920327</td>\n    </tr>\n    <tr>\n      <th>13</th>\n      <td>000017.SZ</td>\n      <td>000017</td>\n      <td>*ST中华A</td>\n      <td>深圳</td>\n      <td>文教休闲</td>\n      <td>19920331</td>\n    </tr>\n    <tr>\n      <th>14</th>\n      <td>000019.SZ</td>\n      <td>000019</td>\n      <td>深粮控股</td>\n      <td>深圳</td>\n      <td>其他商业</td>\n      <td>19921012</td>\n    </tr>\n    <tr>\n      <th>15</th>\n      <td>000020.SZ</td>\n      <td>000020</td>\n      <td>深华发A</td>\n      <td>深圳</td>\n      <td>元器件</td>\n      <td>19920428</td>\n    </tr>\n    <tr>\n      <th>16</th>\n      <td>000021.SZ</td>\n      <td>000021</td>\n      <td>深科技</td>\n      <td>深圳</td>\n      <td>IT设备</td>\n      <td>19940202</td>\n    </tr>\n    <tr>\n      <th>17</th>\n      <td>000023.SZ</td>\n      <td>000023</td>\n      <td>深天地A</td>\n      <td>深圳</td>\n      <td>其他建材</td>\n      <td>19930429</td>\n    </tr>\n    <tr>\n      <th>18</th>\n      <td>000025.SZ</td>\n      <td>000025</td>\n      <td>特力A</td>\n      <td>深圳</td>\n      <td>汽车服务</td>\n      <td>19930621</td>\n    </tr>\n    <tr>\n      <th>19</th>\n      <td>000026.SZ</td>\n      <td>000026</td>\n      <td>飞亚达</td>\n      <td>深圳</td>\n      <td>其他商业</td>\n      <td>19930603</td>\n    </tr>\n    <tr>\n      <th>20</th>\n      <td>000027.SZ</td>\n      <td>000027</td>\n      <td>深圳能源</td>\n      <td>深圳</td>\n      <td>火力发电</td>\n      <td>19930903</td>\n    </tr>\n    <tr>\n      <th>21</th>\n      <td>000028.SZ</td>\n      <td>000028</td>\n      <td>国药一致</td>\n      <td>深圳</td>\n      <td>医药商业</td>\n      <td>19930809</td>\n    </tr>\n    <tr>\n      <th>22</th>\n      <td>000029.SZ</td>\n      <td>000029</td>\n      <td>深深房A</td>\n      <td>深圳</td>\n      <td>区域地产</td>\n      <td>19930915</td>\n    </tr>\n    <tr>\n      <th>23</th>\n      <td>000030.SZ</td>\n      <td>000030</td>\n      <td>富奥股份</td>\n      <td>吉林</td>\n      <td>汽车配件</td>\n      <td>19930929</td>\n    </tr>\n    <tr>\n      <th>24</th>\n      <td>000031.SZ</td>\n      <td>000031</td>\n      <td>大悦城</td>\n      <td>深圳</td>\n      <td>全国地产</td>\n      <td>19931008</td>\n    </tr>\n    <tr>\n      <th>25</th>\n      <td>000032.SZ</td>\n      <td>000032</td>\n      <td>深桑达A</td>\n      <td>深圳</td>\n      <td>元器件</td>\n      <td>19931028</td>\n    </tr>\n    <tr>\n      <th>26</th>\n      <td>000034.SZ</td>\n      <td>000034</td>\n      <td>神州数码</td>\n      <td>深圳</td>\n      <td>综合类</td>\n      <td>19940509</td>\n    </tr>\n    <tr>\n      <th>27</th>\n      <td>000035.SZ</td>\n      <td>000035</td>\n      <td>中国天楹</td>\n      <td>江苏</td>\n      <td>环境保护</td>\n      <td>19940408</td>\n    </tr>\n    <tr>\n      <th>28</th>\n      <td>000036.SZ</td>\n      <td>000036</td>\n      <td>华联控股</td>\n      <td>深圳</td>\n      <td>全国地产</td>\n      <td>19940617</td>\n    </tr>\n    <tr>\n      <th>29</th>\n      <td>000037.SZ</td>\n      <td>000037</td>\n      <td>深南电A</td>\n      <td>深圳</td>\n      <td>火力发电</td>\n      <td>19940701</td>\n    </tr>\n    <tr>\n      <th>...</th>\n      <td>...</td>\n      <td>...</td>\n      <td>...</td>\n      <td>...</td>\n      <td>...</td>\n      <td>...</td>\n    </tr>\n    <tr>\n      <th>3872</th>\n      <td>688377.SH</td>\n      <td>688377</td>\n      <td>迪威尔</td>\n      <td>江苏</td>\n      <td>专用机械</td>\n      <td>20200708</td>\n    </tr>\n    <tr>\n      <th>3873</th>\n      <td>688388.SH</td>\n      <td>688388</td>\n      <td>嘉元科技</td>\n      <td>广东</td>\n      <td>元器件</td>\n      <td>20190722</td>\n    </tr>\n    <tr>\n      <th>3874</th>\n      <td>688389.SH</td>\n      <td>688389</td>\n      <td>普门科技</td>\n      <td>深圳</td>\n      <td>医疗保健</td>\n      <td>20191105</td>\n    </tr>\n    <tr>\n      <th>3875</th>\n      <td>688396.SH</td>\n      <td>688396</td>\n      <td>华润微</td>\n      <td>江苏</td>\n      <td>元器件</td>\n      <td>20200227</td>\n    </tr>\n    <tr>\n      <th>3876</th>\n      <td>688398.SH</td>\n      <td>688398</td>\n      <td>赛特新材</td>\n      <td>福建</td>\n      <td>矿物制品</td>\n      <td>20200211</td>\n    </tr>\n    <tr>\n      <th>3877</th>\n      <td>688399.SH</td>\n      <td>688399</td>\n      <td>硕世生物</td>\n      <td>江苏</td>\n      <td>医疗保健</td>\n      <td>20191205</td>\n    </tr>\n    <tr>\n      <th>3878</th>\n      <td>688418.SH</td>\n      <td>688418</td>\n      <td>N震有</td>\n      <td>深圳</td>\n      <td>通信设备</td>\n      <td>20200722</td>\n    </tr>\n    <tr>\n      <th>3879</th>\n      <td>688466.SH</td>\n      <td>688466</td>\n      <td>金科环境</td>\n      <td>北京</td>\n      <td>环境保护</td>\n      <td>20200508</td>\n    </tr>\n    <tr>\n      <th>3880</th>\n      <td>688488.SH</td>\n      <td>688488</td>\n      <td>艾迪药业</td>\n      <td>江苏</td>\n      <td>生物制药</td>\n      <td>20200720</td>\n    </tr>\n    <tr>\n      <th>3881</th>\n      <td>688500.SH</td>\n      <td>688500</td>\n      <td>慧辰资讯</td>\n      <td>北京</td>\n      <td>互联网</td>\n      <td>20200716</td>\n    </tr>\n    <tr>\n      <th>3882</th>\n      <td>688505.SH</td>\n      <td>688505</td>\n      <td>复旦张江</td>\n      <td>上海</td>\n      <td>化学制药</td>\n      <td>20200619</td>\n    </tr>\n    <tr>\n      <th>3883</th>\n      <td>688508.SH</td>\n      <td>688508</td>\n      <td>N芯朋微</td>\n      <td>江苏</td>\n      <td>半导体</td>\n      <td>20200722</td>\n    </tr>\n    <tr>\n      <th>3884</th>\n      <td>688516.SH</td>\n      <td>688516</td>\n      <td>奥特维</td>\n      <td>江苏</td>\n      <td>专用机械</td>\n      <td>20200521</td>\n    </tr>\n    <tr>\n      <th>3885</th>\n      <td>688518.SH</td>\n      <td>688518</td>\n      <td>联赢激光</td>\n      <td>深圳</td>\n      <td>专用机械</td>\n      <td>20200622</td>\n    </tr>\n    <tr>\n      <th>3886</th>\n      <td>688520.SH</td>\n      <td>688520</td>\n      <td>神州细胞-U</td>\n      <td>北京</td>\n      <td>生物制药</td>\n      <td>20200622</td>\n    </tr>\n    <tr>\n      <th>3887</th>\n      <td>688528.SH</td>\n      <td>688528</td>\n      <td>秦川物联</td>\n      <td>四川</td>\n      <td>电器仪表</td>\n      <td>20200701</td>\n    </tr>\n    <tr>\n      <th>3888</th>\n      <td>688555.SH</td>\n      <td>688555</td>\n      <td>泽达易盛</td>\n      <td>天津</td>\n      <td>软件服务</td>\n      <td>20200623</td>\n    </tr>\n    <tr>\n      <th>3889</th>\n      <td>688558.SH</td>\n      <td>688558</td>\n      <td>国盛智科</td>\n      <td>江苏</td>\n      <td>机床制造</td>\n      <td>20200630</td>\n    </tr>\n    <tr>\n      <th>3890</th>\n      <td>688561.SH</td>\n      <td>688561</td>\n      <td>N奇安信-U</td>\n      <td>北京</td>\n      <td>软件服务</td>\n      <td>20200722</td>\n    </tr>\n    <tr>\n      <th>3891</th>\n      <td>688566.SH</td>\n      <td>688566</td>\n      <td>吉贝尔</td>\n      <td>江苏</td>\n      <td>化学制药</td>\n      <td>20200518</td>\n    </tr>\n    <tr>\n      <th>3892</th>\n      <td>688567.SH</td>\n      <td>688567</td>\n      <td>孚能科技</td>\n      <td>江西</td>\n      <td>电气设备</td>\n      <td>20200717</td>\n    </tr>\n    <tr>\n      <th>3893</th>\n      <td>688568.SH</td>\n      <td>688568</td>\n      <td>中科星图</td>\n      <td>北京</td>\n      <td>软件服务</td>\n      <td>20200708</td>\n    </tr>\n    <tr>\n      <th>3894</th>\n      <td>688579.SH</td>\n      <td>688579</td>\n      <td>山大地纬</td>\n      <td>山东</td>\n      <td>软件服务</td>\n      <td>20200717</td>\n    </tr>\n    <tr>\n      <th>3895</th>\n      <td>688580.SH</td>\n      <td>688580</td>\n      <td>伟思医疗</td>\n      <td>江苏</td>\n      <td>医疗保健</td>\n      <td>20200721</td>\n    </tr>\n    <tr>\n      <th>3896</th>\n      <td>688588.SH</td>\n      <td>688588</td>\n      <td>凌志软件</td>\n      <td>江苏</td>\n      <td>软件服务</td>\n      <td>20200511</td>\n    </tr>\n    <tr>\n      <th>3897</th>\n      <td>688589.SH</td>\n      <td>688589</td>\n      <td>N力合微</td>\n      <td>深圳</td>\n      <td>半导体</td>\n      <td>20200722</td>\n    </tr>\n    <tr>\n      <th>3898</th>\n      <td>688598.SH</td>\n      <td>688598</td>\n      <td>金博股份</td>\n      <td>湖南</td>\n      <td>矿物制品</td>\n      <td>20200518</td>\n    </tr>\n    <tr>\n      <th>3899</th>\n      <td>688599.SH</td>\n      <td>688599</td>\n      <td>天合光能</td>\n      <td>江苏</td>\n      <td>电气设备</td>\n      <td>20200610</td>\n    </tr>\n    <tr>\n      <th>3900</th>\n      <td>688600.SH</td>\n      <td>688600</td>\n      <td>皖仪科技</td>\n      <td>安徽</td>\n      <td>电器仪表</td>\n      <td>20200703</td>\n    </tr>\n    <tr>\n      <th>3901</th>\n      <td>688981.SH</td>\n      <td>688981</td>\n      <td>中芯国际-U</td>\n      <td>上海</td>\n      <td>半导体</td>\n      <td>20200716</td>\n    </tr>\n  </tbody>\n</table>\n<p>3902 rows × 6 columns</p>\n</div>"
     },
     "metadata": {},
     "execution_count": 11
    }
   ],
   "source": [
    "data = pro.query('stock_basic', exchange='', list_status='L', fields='ts_code,symbol,name,area,industry,list_date')\n",
    "data"
   ]
  },
  {
   "cell_type": "code",
   "execution_count": 2,
   "metadata": {
    "tags": []
   },
   "outputs": [
    {
     "output_type": "stream",
     "name": "stdout",
     "text": "成交时间    成交价  价格变动  成交量（手）   成交额（元）  性质\n0     09:25:05  23.86  0.00     140   334040  买盘\n1     09:30:03  23.81 -0.05     233   551904  卖盘\n2     09:30:09  23.75  0.00      32    75995  买盘\n3     09:30:15  23.66 -0.04      15    35566  卖盘\n4     09:30:23  23.73  0.07      10    23729  买盘\n...        ...    ...   ...     ...      ...  ..\n2136  14:56:45  23.66  0.00      67   158534  卖盘\n2137  14:56:53  23.67  0.00     128   302850  买盘\n2138  14:56:57  23.66 -0.01       7    16564  卖盘\n2139  14:56:59  23.67  0.01       2     4734  买盘\n2140  15:00:03  23.68  0.01     584  1382912  买盘\n\n[2141 rows x 6 columns]\n"
    }
   ],
   "source": [
    "import akshare as ak\n",
    "stock_zh_a_tick_163_df = ak.stock_zh_a_tick_163(code=\"sh600848\", trade_date=\"20200722\")\n",
    "print(stock_zh_a_tick_163_df)"
   ]
  },
  {
   "cell_type": "code",
   "execution_count": 3,
   "metadata": {},
   "outputs": [
    {
     "output_type": "execute_result",
     "data": {
      "text/plain": "          成交时间    成交价  价格变动  成交量（手）   成交额（元）  性质\n0     09:25:05  23.86  0.00     140   334040  买盘\n1     09:30:03  23.81 -0.05     233   551904  卖盘\n2     09:30:09  23.75  0.00      32    75995  买盘\n3     09:30:15  23.66 -0.04      15    35566  卖盘\n4     09:30:23  23.73  0.07      10    23729  买盘\n...        ...    ...   ...     ...      ...  ..\n2136  14:56:45  23.66  0.00      67   158534  卖盘\n2137  14:56:53  23.67  0.00     128   302850  买盘\n2138  14:56:57  23.66 -0.01       7    16564  卖盘\n2139  14:56:59  23.67  0.01       2     4734  买盘\n2140  15:00:03  23.68  0.01     584  1382912  买盘\n\n[2141 rows x 6 columns]",
      "text/html": "<div>\n<style scoped>\n    .dataframe tbody tr th:only-of-type {\n        vertical-align: middle;\n    }\n\n    .dataframe tbody tr th {\n        vertical-align: top;\n    }\n\n    .dataframe thead th {\n        text-align: right;\n    }\n</style>\n<table border=\"1\" class=\"dataframe\">\n  <thead>\n    <tr style=\"text-align: right;\">\n      <th></th>\n      <th>成交时间</th>\n      <th>成交价</th>\n      <th>价格变动</th>\n      <th>成交量（手）</th>\n      <th>成交额（元）</th>\n      <th>性质</th>\n    </tr>\n  </thead>\n  <tbody>\n    <tr>\n      <th>0</th>\n      <td>09:25:05</td>\n      <td>23.86</td>\n      <td>0.00</td>\n      <td>140</td>\n      <td>334040</td>\n      <td>买盘</td>\n    </tr>\n    <tr>\n      <th>1</th>\n      <td>09:30:03</td>\n      <td>23.81</td>\n      <td>-0.05</td>\n      <td>233</td>\n      <td>551904</td>\n      <td>卖盘</td>\n    </tr>\n    <tr>\n      <th>2</th>\n      <td>09:30:09</td>\n      <td>23.75</td>\n      <td>0.00</td>\n      <td>32</td>\n      <td>75995</td>\n      <td>买盘</td>\n    </tr>\n    <tr>\n      <th>3</th>\n      <td>09:30:15</td>\n      <td>23.66</td>\n      <td>-0.04</td>\n      <td>15</td>\n      <td>35566</td>\n      <td>卖盘</td>\n    </tr>\n    <tr>\n      <th>4</th>\n      <td>09:30:23</td>\n      <td>23.73</td>\n      <td>0.07</td>\n      <td>10</td>\n      <td>23729</td>\n      <td>买盘</td>\n    </tr>\n    <tr>\n      <th>...</th>\n      <td>...</td>\n      <td>...</td>\n      <td>...</td>\n      <td>...</td>\n      <td>...</td>\n      <td>...</td>\n    </tr>\n    <tr>\n      <th>2136</th>\n      <td>14:56:45</td>\n      <td>23.66</td>\n      <td>0.00</td>\n      <td>67</td>\n      <td>158534</td>\n      <td>卖盘</td>\n    </tr>\n    <tr>\n      <th>2137</th>\n      <td>14:56:53</td>\n      <td>23.67</td>\n      <td>0.00</td>\n      <td>128</td>\n      <td>302850</td>\n      <td>买盘</td>\n    </tr>\n    <tr>\n      <th>2138</th>\n      <td>14:56:57</td>\n      <td>23.66</td>\n      <td>-0.01</td>\n      <td>7</td>\n      <td>16564</td>\n      <td>卖盘</td>\n    </tr>\n    <tr>\n      <th>2139</th>\n      <td>14:56:59</td>\n      <td>23.67</td>\n      <td>0.01</td>\n      <td>2</td>\n      <td>4734</td>\n      <td>买盘</td>\n    </tr>\n    <tr>\n      <th>2140</th>\n      <td>15:00:03</td>\n      <td>23.68</td>\n      <td>0.01</td>\n      <td>584</td>\n      <td>1382912</td>\n      <td>买盘</td>\n    </tr>\n  </tbody>\n</table>\n<p>2141 rows × 6 columns</p>\n</div>"
     },
     "metadata": {},
     "execution_count": 3
    }
   ],
   "source": [
    "stock_zh_a_tick_163_df"
   ]
  },
  {
   "cell_type": "code",
   "execution_count": 4,
   "metadata": {},
   "outputs": [],
   "source": [
    "stock_zh_a_tick_163_df.to_excel('test.xlsx')"
   ]
  },
  {
   "cell_type": "code",
   "execution_count": 5,
   "metadata": {
    "tags": []
   },
   "outputs": [
    {
     "output_type": "stream",
     "name": "stderr",
     "text": "Please wait for a moment: 100%|██████████| 49/49 [00:25<00:00,  1.93it/s]\n"
    },
    {
     "output_type": "execute_result",
     "data": {
      "text/plain": "        symbol    code   name   trade  pricechange  changepercent     buy  \\\n0     sh600000  600000  XD浦发银   10.86        -0.16         -1.452   10.86   \n1     sh600004  600004   白云机场   14.74        -0.19         -1.273   14.73   \n2     sh600006  600006   东风汽车    4.33        -0.02         -0.460    4.32   \n3     sh600007  600007   中国国贸   13.70        -0.02         -0.146   13.70   \n4     sh600008  600008   首创股份    3.37        -0.03         -0.882    3.36   \n...        ...     ...    ...     ...          ...            ...     ...   \n3905  sz300850  300850    新强联   50.24        -0.96         -1.875   50.23   \n3906  sz300851  300851   交大思诺   60.48         5.50         10.004   60.48   \n3907  sz300852  300852   四会富仕  102.07         9.28         10.001  102.07   \n3908  sz300855  300855    N图南   15.13         4.62         43.958    0.00   \n3909  sz300856  300856   科思股份   48.41         4.40          9.998   48.41   \n\n       sell  settlement    open    high     low      volume       amount  \\\n0     10.87       11.02   10.99   10.99   10.79  25966265.0  281667451.0   \n1     14.74       14.93   14.87   14.87   14.65   5028530.0   74137146.0   \n2      4.33        4.35    4.31    4.34    4.29   2230194.0    9627926.0   \n3     13.71       13.72   13.70   13.75   13.62    483800.0    6626469.0   \n4      3.37        3.40    3.37    3.38    3.33  13124090.0   43998530.0   \n...     ...         ...     ...     ...     ...         ...          ...   \n3905  50.24       51.20   49.11   51.00   49.02   3159812.0  157006985.0   \n3906   0.00       54.98   60.48   60.48   60.48     39672.0    2399363.0   \n3907   0.00       92.79  102.07  102.07  102.07     44762.0    4568857.0   \n3908   0.00       10.51   12.61   15.13   12.61      2700.0      35937.0   \n3909   0.00       44.01   48.41   48.41   48.41     11214.0     542870.0   \n\n      ticktime     per      pb        mktcap           nmc  turnoverratio  \n0     09:52:23   5.569   0.618  3.187640e+07  3.052073e+07        0.09239  \n1     09:52:24  30.708   1.841  3.050178e+06  3.050178e+06        0.24300  \n2     09:52:23  19.575   1.173  8.660000e+05  8.660000e+05        0.11151  \n3     09:52:23  14.124   1.775  1.379977e+06  1.379977e+06        0.04803  \n4     09:52:24  19.988   1.676  1.915996e+06  1.915996e+06        0.23084  \n...        ...     ...     ...           ...           ...            ...  \n3905  09:52:48  39.873   5.929  5.325440e+05  1.331360e+05       11.92382  \n3906  09:52:48  33.231   7.228  5.257732e+05  1.314436e+05        0.18254  \n3907  09:52:42  49.309  11.830  5.780040e+05  1.445311e+05        0.31612  \n3908  09:52:03  22.250   4.547  3.026000e+05  7.565000e+04        0.00540  \n3909  09:52:48  26.665   0.000  5.464521e+05  1.366130e+05        0.03974  \n\n[3910 rows x 20 columns]",
      "text/html": "<div>\n<style scoped>\n    .dataframe tbody tr th:only-of-type {\n        vertical-align: middle;\n    }\n\n    .dataframe tbody tr th {\n        vertical-align: top;\n    }\n\n    .dataframe thead th {\n        text-align: right;\n    }\n</style>\n<table border=\"1\" class=\"dataframe\">\n  <thead>\n    <tr style=\"text-align: right;\">\n      <th></th>\n      <th>symbol</th>\n      <th>code</th>\n      <th>name</th>\n      <th>trade</th>\n      <th>pricechange</th>\n      <th>changepercent</th>\n      <th>buy</th>\n      <th>sell</th>\n      <th>settlement</th>\n      <th>open</th>\n      <th>high</th>\n      <th>low</th>\n      <th>volume</th>\n      <th>amount</th>\n      <th>ticktime</th>\n      <th>per</th>\n      <th>pb</th>\n      <th>mktcap</th>\n      <th>nmc</th>\n      <th>turnoverratio</th>\n    </tr>\n  </thead>\n  <tbody>\n    <tr>\n      <th>0</th>\n      <td>sh600000</td>\n      <td>600000</td>\n      <td>XD浦发银</td>\n      <td>10.86</td>\n      <td>-0.16</td>\n      <td>-1.452</td>\n      <td>10.86</td>\n      <td>10.87</td>\n      <td>11.02</td>\n      <td>10.99</td>\n      <td>10.99</td>\n      <td>10.79</td>\n      <td>25966265.0</td>\n      <td>281667451.0</td>\n      <td>09:52:23</td>\n      <td>5.569</td>\n      <td>0.618</td>\n      <td>3.187640e+07</td>\n      <td>3.052073e+07</td>\n      <td>0.09239</td>\n    </tr>\n    <tr>\n      <th>1</th>\n      <td>sh600004</td>\n      <td>600004</td>\n      <td>白云机场</td>\n      <td>14.74</td>\n      <td>-0.19</td>\n      <td>-1.273</td>\n      <td>14.73</td>\n      <td>14.74</td>\n      <td>14.93</td>\n      <td>14.87</td>\n      <td>14.87</td>\n      <td>14.65</td>\n      <td>5028530.0</td>\n      <td>74137146.0</td>\n      <td>09:52:24</td>\n      <td>30.708</td>\n      <td>1.841</td>\n      <td>3.050178e+06</td>\n      <td>3.050178e+06</td>\n      <td>0.24300</td>\n    </tr>\n    <tr>\n      <th>2</th>\n      <td>sh600006</td>\n      <td>600006</td>\n      <td>东风汽车</td>\n      <td>4.33</td>\n      <td>-0.02</td>\n      <td>-0.460</td>\n      <td>4.32</td>\n      <td>4.33</td>\n      <td>4.35</td>\n      <td>4.31</td>\n      <td>4.34</td>\n      <td>4.29</td>\n      <td>2230194.0</td>\n      <td>9627926.0</td>\n      <td>09:52:23</td>\n      <td>19.575</td>\n      <td>1.173</td>\n      <td>8.660000e+05</td>\n      <td>8.660000e+05</td>\n      <td>0.11151</td>\n    </tr>\n    <tr>\n      <th>3</th>\n      <td>sh600007</td>\n      <td>600007</td>\n      <td>中国国贸</td>\n      <td>13.70</td>\n      <td>-0.02</td>\n      <td>-0.146</td>\n      <td>13.70</td>\n      <td>13.71</td>\n      <td>13.72</td>\n      <td>13.70</td>\n      <td>13.75</td>\n      <td>13.62</td>\n      <td>483800.0</td>\n      <td>6626469.0</td>\n      <td>09:52:23</td>\n      <td>14.124</td>\n      <td>1.775</td>\n      <td>1.379977e+06</td>\n      <td>1.379977e+06</td>\n      <td>0.04803</td>\n    </tr>\n    <tr>\n      <th>4</th>\n      <td>sh600008</td>\n      <td>600008</td>\n      <td>首创股份</td>\n      <td>3.37</td>\n      <td>-0.03</td>\n      <td>-0.882</td>\n      <td>3.36</td>\n      <td>3.37</td>\n      <td>3.40</td>\n      <td>3.37</td>\n      <td>3.38</td>\n      <td>3.33</td>\n      <td>13124090.0</td>\n      <td>43998530.0</td>\n      <td>09:52:24</td>\n      <td>19.988</td>\n      <td>1.676</td>\n      <td>1.915996e+06</td>\n      <td>1.915996e+06</td>\n      <td>0.23084</td>\n    </tr>\n    <tr>\n      <th>...</th>\n      <td>...</td>\n      <td>...</td>\n      <td>...</td>\n      <td>...</td>\n      <td>...</td>\n      <td>...</td>\n      <td>...</td>\n      <td>...</td>\n      <td>...</td>\n      <td>...</td>\n      <td>...</td>\n      <td>...</td>\n      <td>...</td>\n      <td>...</td>\n      <td>...</td>\n      <td>...</td>\n      <td>...</td>\n      <td>...</td>\n      <td>...</td>\n      <td>...</td>\n    </tr>\n    <tr>\n      <th>3905</th>\n      <td>sz300850</td>\n      <td>300850</td>\n      <td>新强联</td>\n      <td>50.24</td>\n      <td>-0.96</td>\n      <td>-1.875</td>\n      <td>50.23</td>\n      <td>50.24</td>\n      <td>51.20</td>\n      <td>49.11</td>\n      <td>51.00</td>\n      <td>49.02</td>\n      <td>3159812.0</td>\n      <td>157006985.0</td>\n      <td>09:52:48</td>\n      <td>39.873</td>\n      <td>5.929</td>\n      <td>5.325440e+05</td>\n      <td>1.331360e+05</td>\n      <td>11.92382</td>\n    </tr>\n    <tr>\n      <th>3906</th>\n      <td>sz300851</td>\n      <td>300851</td>\n      <td>交大思诺</td>\n      <td>60.48</td>\n      <td>5.50</td>\n      <td>10.004</td>\n      <td>60.48</td>\n      <td>0.00</td>\n      <td>54.98</td>\n      <td>60.48</td>\n      <td>60.48</td>\n      <td>60.48</td>\n      <td>39672.0</td>\n      <td>2399363.0</td>\n      <td>09:52:48</td>\n      <td>33.231</td>\n      <td>7.228</td>\n      <td>5.257732e+05</td>\n      <td>1.314436e+05</td>\n      <td>0.18254</td>\n    </tr>\n    <tr>\n      <th>3907</th>\n      <td>sz300852</td>\n      <td>300852</td>\n      <td>四会富仕</td>\n      <td>102.07</td>\n      <td>9.28</td>\n      <td>10.001</td>\n      <td>102.07</td>\n      <td>0.00</td>\n      <td>92.79</td>\n      <td>102.07</td>\n      <td>102.07</td>\n      <td>102.07</td>\n      <td>44762.0</td>\n      <td>4568857.0</td>\n      <td>09:52:42</td>\n      <td>49.309</td>\n      <td>11.830</td>\n      <td>5.780040e+05</td>\n      <td>1.445311e+05</td>\n      <td>0.31612</td>\n    </tr>\n    <tr>\n      <th>3908</th>\n      <td>sz300855</td>\n      <td>300855</td>\n      <td>N图南</td>\n      <td>15.13</td>\n      <td>4.62</td>\n      <td>43.958</td>\n      <td>0.00</td>\n      <td>0.00</td>\n      <td>10.51</td>\n      <td>12.61</td>\n      <td>15.13</td>\n      <td>12.61</td>\n      <td>2700.0</td>\n      <td>35937.0</td>\n      <td>09:52:03</td>\n      <td>22.250</td>\n      <td>4.547</td>\n      <td>3.026000e+05</td>\n      <td>7.565000e+04</td>\n      <td>0.00540</td>\n    </tr>\n    <tr>\n      <th>3909</th>\n      <td>sz300856</td>\n      <td>300856</td>\n      <td>科思股份</td>\n      <td>48.41</td>\n      <td>4.40</td>\n      <td>9.998</td>\n      <td>48.41</td>\n      <td>0.00</td>\n      <td>44.01</td>\n      <td>48.41</td>\n      <td>48.41</td>\n      <td>48.41</td>\n      <td>11214.0</td>\n      <td>542870.0</td>\n      <td>09:52:48</td>\n      <td>26.665</td>\n      <td>0.000</td>\n      <td>5.464521e+05</td>\n      <td>1.366130e+05</td>\n      <td>0.03974</td>\n    </tr>\n  </tbody>\n</table>\n<p>3910 rows × 20 columns</p>\n</div>"
     },
     "metadata": {},
     "execution_count": 5
    }
   ],
   "source": [
    "import akshare as ak\n",
    "stock_zh_a_spot_df = ak.stock_zh_a_spot()\n",
    "stock_zh_a_spot_df"
   ]
  },
  {
   "cell_type": "code",
   "execution_count": 6,
   "metadata": {},
   "outputs": [],
   "source": [
    "stock_zh_a_spot_df.to_excel('text2.xlsx')"
   ]
  },
  {
   "cell_type": "code",
   "execution_count": null,
   "metadata": {},
   "outputs": [],
   "source": []
  }
 ]
}