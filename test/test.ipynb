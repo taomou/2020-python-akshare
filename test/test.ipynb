{
 "metadata": {
  "language_info": {
   "codemirror_mode": {
    "name": "ipython",
    "version": 3
   },
   "file_extension": ".py",
   "mimetype": "text/x-python",
   "name": "python",
   "nbconvert_exporter": "python",
   "pygments_lexer": "ipython3",
   "version": "3.6.8-final"
  },
  "orig_nbformat": 2,
  "kernelspec": {
   "name": "python36864bitbase0b67f1f954994b88b3880cb6eba968bd",
   "display_name": "Python 3.6.8 64-bit ('base')"
  }
 },
 "nbformat": 4,
 "nbformat_minor": 2,
 "cells": [
  {
   "cell_type": "code",
   "execution_count": 9,
   "metadata": {},
   "outputs": [],
   "source": [
    "import pyecharts.options as opts\n",
    "from pyecharts.charts import Line, Grid\n",
    "import pandas as pd \n",
    "import datetime"
   ]
  },
  {
   "cell_type": "code",
   "execution_count": 2,
   "metadata": {},
   "outputs": [],
   "source": [
    "data = pd.read_excel('time6.xlsx')"
   ]
  },
  {
   "cell_type": "code",
   "execution_count": 11,
   "metadata": {},
   "outputs": [
    {
     "output_type": "execute_result",
     "data": {
      "text/plain": [
       "   Unnamed: 0          time_stamp  FY_num  CK_num  DD_num  FYCK  SJ_mean  \\\n",
       "0           0 2020-07-01 00:00:00       0       1       0   0.0      NaN   \n",
       "1           1 2020-07-01 00:01:00       0       1       0   0.0      NaN   \n",
       "2           2 2020-07-01 00:02:00       0       1       0   0.0      NaN   \n",
       "3           3 2020-07-01 00:03:00       0       1       0   0.0      NaN   \n",
       "4           4 2020-07-01 00:04:00       1       1       1   1.0    182.0   \n",
       "\n",
       "   SJ_std  SJ_max  SJ_min  weekday     时分  is_workday                   dt  \n",
       "0     NaN     NaN     NaN        3  00:00           0  2020-07-01 00:00:00  \n",
       "1     NaN     NaN     NaN        3  00:01           0  2020-07-01 00:01:00  \n",
       "2     NaN     NaN     NaN        3  00:02           0  2020-07-01 00:02:00  \n",
       "3     NaN     NaN     NaN        3  00:03           0  2020-07-01 00:03:00  \n",
       "4     NaN   182.0   182.0        3  00:04           0  2020-07-01 00:04:00  "
      ],
      "text/html": "<div>\n<style scoped>\n    .dataframe tbody tr th:only-of-type {\n        vertical-align: middle;\n    }\n\n    .dataframe tbody tr th {\n        vertical-align: top;\n    }\n\n    .dataframe thead th {\n        text-align: right;\n    }\n</style>\n<table border=\"1\" class=\"dataframe\">\n  <thead>\n    <tr style=\"text-align: right;\">\n      <th></th>\n      <th>Unnamed: 0</th>\n      <th>time_stamp</th>\n      <th>FY_num</th>\n      <th>CK_num</th>\n      <th>DD_num</th>\n      <th>FYCK</th>\n      <th>SJ_mean</th>\n      <th>SJ_std</th>\n      <th>SJ_max</th>\n      <th>SJ_min</th>\n      <th>weekday</th>\n      <th>时分</th>\n      <th>is_workday</th>\n      <th>dt</th>\n    </tr>\n  </thead>\n  <tbody>\n    <tr>\n      <th>0</th>\n      <td>0</td>\n      <td>2020-07-01 00:00:00</td>\n      <td>0</td>\n      <td>1</td>\n      <td>0</td>\n      <td>0.0</td>\n      <td>NaN</td>\n      <td>NaN</td>\n      <td>NaN</td>\n      <td>NaN</td>\n      <td>3</td>\n      <td>00:00</td>\n      <td>0</td>\n      <td>2020-07-01 00:00:00</td>\n    </tr>\n    <tr>\n      <th>1</th>\n      <td>1</td>\n      <td>2020-07-01 00:01:00</td>\n      <td>0</td>\n      <td>1</td>\n      <td>0</td>\n      <td>0.0</td>\n      <td>NaN</td>\n      <td>NaN</td>\n      <td>NaN</td>\n      <td>NaN</td>\n      <td>3</td>\n      <td>00:01</td>\n      <td>0</td>\n      <td>2020-07-01 00:01:00</td>\n    </tr>\n    <tr>\n      <th>2</th>\n      <td>2</td>\n      <td>2020-07-01 00:02:00</td>\n      <td>0</td>\n      <td>1</td>\n      <td>0</td>\n      <td>0.0</td>\n      <td>NaN</td>\n      <td>NaN</td>\n      <td>NaN</td>\n      <td>NaN</td>\n      <td>3</td>\n      <td>00:02</td>\n      <td>0</td>\n      <td>2020-07-01 00:02:00</td>\n    </tr>\n    <tr>\n      <th>3</th>\n      <td>3</td>\n      <td>2020-07-01 00:03:00</td>\n      <td>0</td>\n      <td>1</td>\n      <td>0</td>\n      <td>0.0</td>\n      <td>NaN</td>\n      <td>NaN</td>\n      <td>NaN</td>\n      <td>NaN</td>\n      <td>3</td>\n      <td>00:03</td>\n      <td>0</td>\n      <td>2020-07-01 00:03:00</td>\n    </tr>\n    <tr>\n      <th>4</th>\n      <td>4</td>\n      <td>2020-07-01 00:04:00</td>\n      <td>1</td>\n      <td>1</td>\n      <td>1</td>\n      <td>1.0</td>\n      <td>182.0</td>\n      <td>NaN</td>\n      <td>182.0</td>\n      <td>182.0</td>\n      <td>3</td>\n      <td>00:04</td>\n      <td>0</td>\n      <td>2020-07-01 00:04:00</td>\n    </tr>\n  </tbody>\n</table>\n</div>"
     },
     "metadata": {},
     "execution_count": 11
    }
   ],
   "source": [
    "data.head()"
   ]
  },
  {
   "cell_type": "code",
   "execution_count": 10,
   "metadata": {},
   "outputs": [],
   "source": [
    "data['dt'] = data['time_stamp'].apply(lambda x: str(x))"
   ]
  },
  {
   "cell_type": "code",
   "execution_count": 13,
   "metadata": {},
   "outputs": [],
   "source": [
    "timeData = data['dt'].to_list()\n",
    "timeData = [d.replace(\"2020-\", \"\") for d in timeData]"
   ]
  },
  {
   "cell_type": "code",
   "execution_count": 14,
   "metadata": {},
   "outputs": [],
   "source": [
    "FY_num = data['FY_num'].to_list()\n",
    "CK_num = data['CK_num'].to_list()"
   ]
  },
  {
   "cell_type": "code",
   "execution_count": 15,
   "metadata": {},
   "outputs": [],
   "source": [
    "l1 = (\n",
    "    Line()\n",
    "    .add_xaxis(xaxis_data=timeData)\n",
    "    .add_yaxis(\n",
    "        series_name=\"发药患者数\",\n",
    "        y_axis=FY_num,\n",
    "        symbol_size=8,\n",
    "        is_hover_animation=False,\n",
    "        label_opts=opts.LabelOpts(is_show=False),\n",
    "        linestyle_opts=opts.LineStyleOpts(width=1.5),\n",
    "        is_smooth=True,\n",
    "    )\n",
    "    .set_global_opts(\n",
    "        title_opts=opts.TitleOpts(\n",
    "            title=\"取药人次与发药窗口数\", subtitle=\"药房窗口发药数据分析\", pos_left=\"center\"\n",
    "        ),\n",
    "        tooltip_opts=opts.TooltipOpts(trigger=\"axis\"),\n",
    "        axispointer_opts=opts.AxisPointerOpts(\n",
    "            is_show=True, link=[{\"xAxisIndex\": \"all\"}]\n",
    "        ),\n",
    "        datazoom_opts=[\n",
    "            opts.DataZoomOpts(\n",
    "                is_show=True,\n",
    "                is_realtime=True,\n",
    "                start_value=30,\n",
    "                end_value=70,\n",
    "                xaxis_index=[0, 1],\n",
    "            )\n",
    "        ],\n",
    "        xaxis_opts=opts.AxisOpts(\n",
    "            type_=\"category\",\n",
    "            boundary_gap=False,\n",
    "            axisline_opts=opts.AxisLineOpts(is_on_zero=True),\n",
    "        ),\n",
    "        yaxis_opts=opts.AxisOpts(max_=80, name=\"人次\"),\n",
    "        legend_opts=opts.LegendOpts(pos_left=\"left\"),\n",
    "        toolbox_opts=opts.ToolboxOpts(\n",
    "            is_show=True,\n",
    "            feature={\n",
    "                \"dataZoom\": {\"yAxisIndex\": \"none\"},\n",
    "                \"restore\": {},\n",
    "                \"saveAsImage\": {},\n",
    "            },\n",
    "        ),\n",
    "    )\n",
    ")"
   ]
  },
  {
   "cell_type": "code",
   "execution_count": 16,
   "metadata": {},
   "outputs": [],
   "source": [
    "l2 = (\n",
    "    Line()\n",
    "    .add_xaxis(xaxis_data=timeData)\n",
    "    .add_yaxis(\n",
    "        series_name=\"开放窗口数\",\n",
    "        y_axis=CK_num,\n",
    "        xaxis_index=1,\n",
    "        yaxis_index=1,\n",
    "        symbol_size=8,\n",
    "        is_hover_animation=False,\n",
    "        label_opts=opts.LabelOpts(is_show=False),\n",
    "        linestyle_opts=opts.LineStyleOpts(width=1.5),\n",
    "        is_smooth=True,\n",
    "    )\n",
    "    .set_global_opts(\n",
    "        axispointer_opts=opts.AxisPointerOpts(\n",
    "            is_show=True, link=[{\"xAxisIndex\": \"all\"}]\n",
    "        ),\n",
    "        tooltip_opts=opts.TooltipOpts(trigger=\"axis\"),\n",
    "        xaxis_opts=opts.AxisOpts(\n",
    "            grid_index=1,\n",
    "            type_=\"category\",\n",
    "            boundary_gap=False,\n",
    "            axisline_opts=opts.AxisLineOpts(is_on_zero=True),\n",
    "            position=\"top\",\n",
    "        ),\n",
    "        datazoom_opts=[\n",
    "            opts.DataZoomOpts(\n",
    "                is_realtime=True,\n",
    "                type_=\"inside\",\n",
    "                start_value=30,\n",
    "                end_value=70,\n",
    "                xaxis_index=[0, 1],\n",
    "            )\n",
    "        ],\n",
    "        yaxis_opts=opts.AxisOpts(is_inverse=True, name=\"窗口数\"),\n",
    "        legend_opts=opts.LegendOpts(pos_left=\"7%\"),\n",
    "    )\n",
    ")"
   ]
  },
  {
   "cell_type": "code",
   "execution_count": 17,
   "metadata": {},
   "outputs": [
    {
     "output_type": "execute_result",
     "data": {
      "text/plain": [
       "'/Users/taomou/Desktop/2020股票金融数据分析/test/test1.html'"
      ]
     },
     "metadata": {},
     "execution_count": 17
    }
   ],
   "source": [
    "(\n",
    "    Grid(init_opts=opts.InitOpts(width=\"1024px\", height=\"768px\"))\n",
    "    .add(chart=l1, grid_opts=opts.GridOpts(pos_left=50, pos_right=50, height=\"35%\"))\n",
    "    .add(\n",
    "        chart=l2,\n",
    "        grid_opts=opts.GridOpts(pos_left=50, pos_right=50, pos_top=\"55%\", height=\"35%\"),\n",
    "    )\n",
    "    .render(\"test1.html\")\n",
    ")"
   ]
  },
  {
   "cell_type": "code",
   "execution_count": null,
   "metadata": {},
   "outputs": [],
   "source": []
  }
 ]
}