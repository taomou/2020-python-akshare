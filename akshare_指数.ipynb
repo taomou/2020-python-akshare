{
 "metadata": {
  "language_info": {
   "codemirror_mode": {
    "name": "ipython",
    "version": 3
   },
   "file_extension": ".py",
   "mimetype": "text/x-python",
   "name": "python",
   "nbconvert_exporter": "python",
   "pygments_lexer": "ipython3",
   "version": "3.6.8-final"
  },
  "orig_nbformat": 2,
  "kernelspec": {
   "name": "python36864bitbase0b67f1f954994b88b3880cb6eba968bd",
   "display_name": "Python 3.6.8 64-bit ('base')"
  }
 },
 "nbformat": 4,
 "nbformat_minor": 2,
 "cells": [
  {
   "cell_type": "code",
   "execution_count": 1,
   "metadata": {
    "tags": []
   },
   "outputs": [
    {
     "output_type": "stream",
     "name": "stdout",
     "text": "       symbol  name      trade pricechange changepercent    buy   sell  \\\n0    sh000001  上证指数  3224.3593       6.825         0.212      0      0   \n1    sh000002  Ａ股指数  3379.2184       7.086         0.210      0      0   \n2    sh000003  Ｂ股指数   248.3915       3.077         1.254      0      0   \n3    sh000004  工业指数  2724.1201      14.102         0.520      0      0   \n4    sh000005  商业指数  3322.3821      11.673         0.353      0      0   \n..        ...   ...        ...         ...           ...    ...    ...   \n571  sz399997  中证白酒  12004.597     -24.058        -0.200  0.000  0.000   \n572  sz399998  中证煤炭   1172.127     -11.100        -0.938  0.000  0.000   \n573  sz980001         1496.916       1.719         0.115  0.000  0.000   \n574  sz980017         8487.041     110.900         1.324  0.000  0.000   \n575  sz980023         2830.133      30.930         1.105  0.000  0.000   \n\n    settlement       open       high        low      volume        amount  \\\n0    3217.5346  3231.8551  3242.7937  3219.7902   151349870  207307813844   \n1    3372.1322  3387.1648  3398.5923  3374.4845   151190879  207205293135   \n2     245.3150   245.4805   248.3915   245.4805      158991     102520709   \n3    2710.0180  2724.8335  2737.0490  2712.1066    91260879  133798079425   \n4    3310.7093  3323.1317  3348.0418  3314.2277    13330545   19894851312   \n..         ...        ...        ...        ...         ...           ...   \n571  12028.655  12113.003  12127.448  11947.117    76960340    9247525989   \n572   1183.227   1183.764   1183.764   1169.786   587505907    3389331177   \n573   1495.197   1505.201   1507.345   1496.332  1605804365   51247395943   \n574   8376.141   8451.192   8580.340   8415.765   369927638   14931417851   \n575   2799.203   2820.467   2841.973   2805.673   511830064   13464726319   \n\n       code  ticktime  \n0    000001  15:02:16  \n1    000002  15:02:16  \n2    000003  15:02:16  \n3    000004  15:02:16  \n4    000005  15:02:16  \n..      ...       ...  \n571  399997  15:01:54  \n572  399998  15:01:54  \n573  980001  15:35:57  \n574  980017  15:01:02  \n575  980023  15:35:57  \n\n[576 rows x 15 columns]\n"
    }
   ],
   "source": [
    "import akshare as ak\n",
    "stock_df = ak.stock_zh_index_spot()\n",
    "print(stock_df)"
   ]
  },
  {
   "cell_type": "code",
   "execution_count": 2,
   "metadata": {
    "tags": []
   },
   "outputs": [
    {
     "output_type": "stream",
     "name": "stdout",
     "text": "                open      high       low     close        volume\ndate                                                            \n2013-06-06  3353.536  3367.362  3325.742  3331.724  6.976691e+08\n2013-06-07  3325.795  3338.029  3264.914  3276.253  7.975941e+08\n2013-06-13  3227.157  3227.157  3138.502  3170.727  9.214073e+08\n2013-06-14  3168.941  3190.161  3157.245  3184.553  7.290986e+08\n2013-06-17  3189.969  3196.282  3153.118  3158.014  7.514038e+08\n...              ...       ...       ...       ...           ...\n2020-09-23  9214.969  9263.115  9180.321  9234.345  1.481302e+09\n2020-09-24  9188.353  9191.744  9049.578  9058.851  1.918573e+09\n2020-09-25  9094.657  9111.857  9004.454  9032.289  1.370887e+09\n2020-09-28  9058.896  9132.954  9058.896  9075.179  1.246891e+09\n2020-09-29  9117.255  9133.399  9081.665  9084.236  1.481702e+09\n\n[1785 rows x 5 columns]\n"
    }
   ],
   "source": [
    "stock_zh_index_daily_df = ak.stock_zh_index_daily(symbol=\"sz399552\")\n",
    "print(stock_zh_index_daily_df)"
   ]
  },
  {
   "cell_type": "code",
   "execution_count": 13,
   "metadata": {},
   "outputs": [],
   "source": [
    "stock_zh_index_daily_df['num'] = 10 \n"
   ]
  },
  {
   "cell_type": "code",
   "execution_count": 17,
   "metadata": {},
   "outputs": [],
   "source": [
    "sum_cost = sum(stock_zh_index_daily_df['cost'])\n",
    "sum_num = sum(stock_zh_index_daily_df['num'])\n",
    "a = sum_num * stock_zh_index_daily_df['open'][-1]"
   ]
  },
  {
   "cell_type": "code",
   "execution_count": 19,
   "metadata": {},
   "outputs": [],
   "source": [
    "b = (a-sum_cost)/sum_cost "
   ]
  },
  {
   "cell_type": "code",
   "execution_count": 20,
   "metadata": {},
   "outputs": [
    {
     "output_type": "execute_result",
     "data": {
      "text/plain": "0.5825571588820014"
     },
     "metadata": {},
     "execution_count": 20
    }
   ],
   "source": [
    "b"
   ]
  },
  {
   "cell_type": "code",
   "execution_count": 21,
   "metadata": {},
   "outputs": [],
   "source": [
    "c  = (stock_zh_index_daily_df['open'][-1]-stock_zh_index_daily_df['open'][0])/stock_zh_index_daily_df['open'][0]"
   ]
  },
  {
   "cell_type": "code",
   "execution_count": 22,
   "metadata": {},
   "outputs": [
    {
     "output_type": "execute_result",
     "data": {
      "text/plain": "1.718699009045974"
     },
     "metadata": {},
     "execution_count": 22
    }
   ],
   "source": [
    "c"
   ]
  },
  {
   "cell_type": "code",
   "execution_count": 23,
   "metadata": {},
   "outputs": [
    {
     "output_type": "execute_result",
     "data": {
      "text/plain": "(1785, 7)"
     },
     "metadata": {},
     "execution_count": 23
    }
   ],
   "source": [
    "stock_zh_index_daily_df.shape"
   ]
  },
  {
   "cell_type": "code",
   "execution_count": 31,
   "metadata": {},
   "outputs": [],
   "source": [
    "def avg_ (x):\n",
    "    return (x['high']+x['low'])*0.5"
   ]
  },
  {
   "cell_type": "code",
   "execution_count": 45,
   "metadata": {},
   "outputs": [],
   "source": [
    "stock_zh_index_daily_df['avg']= stock_zh_index_daily_df.apply(lambda x: avg_ (x), axis=1)\n",
    "stock_zh_index_daily_df['cost'] = 10 * stock_zh_index_daily_df['avg']"
   ]
  },
  {
   "cell_type": "code",
   "execution_count": 46,
   "metadata": {},
   "outputs": [
    {
     "output_type": "execute_result",
     "data": {
      "text/plain": "                open      high       low     close        volume  num  \\\ndate                                                                    \n2013-06-06  3353.536  3367.362  3325.742  3331.724  6.976691e+08   10   \n2013-06-07  3325.795  3338.029  3264.914  3276.253  7.975941e+08   10   \n2013-06-13  3227.157  3227.157  3138.502  3170.727  9.214073e+08   10   \n2013-06-14  3168.941  3190.161  3157.245  3184.553  7.290986e+08   10   \n2013-06-17  3189.969  3196.282  3153.118  3158.014  7.514038e+08   10   \n...              ...       ...       ...       ...           ...  ...   \n2020-09-23  9214.969  9263.115  9180.321  9234.345  1.481302e+09   10   \n2020-09-24  9188.353  9191.744  9049.578  9058.851  1.918573e+09   10   \n2020-09-25  9094.657  9111.857  9004.454  9032.289  1.370887e+09   10   \n2020-09-28  9058.896  9132.954  9058.896  9075.179  1.246891e+09   10   \n2020-09-29  9117.255  9133.399  9081.665  9084.236  1.481702e+09   10   \n\n                cost       avg  \ndate                            \n2013-06-06  33257.42  3325.742  \n2013-06-07  32649.14  3264.914  \n2013-06-13  31385.02  3138.502  \n2013-06-14  31572.45  3157.245  \n2013-06-17  31531.18  3153.118  \n...              ...       ...  \n2020-09-23  91803.21  9180.321  \n2020-09-24  90495.78  9049.578  \n2020-09-25  90044.54  9004.454  \n2020-09-28  90588.96  9058.896  \n2020-09-29  90816.65  9081.665  \n\n[1785 rows x 8 columns]",
      "text/html": "<div>\n<style scoped>\n    .dataframe tbody tr th:only-of-type {\n        vertical-align: middle;\n    }\n\n    .dataframe tbody tr th {\n        vertical-align: top;\n    }\n\n    .dataframe thead th {\n        text-align: right;\n    }\n</style>\n<table border=\"1\" class=\"dataframe\">\n  <thead>\n    <tr style=\"text-align: right;\">\n      <th></th>\n      <th>open</th>\n      <th>high</th>\n      <th>low</th>\n      <th>close</th>\n      <th>volume</th>\n      <th>num</th>\n      <th>cost</th>\n      <th>avg</th>\n    </tr>\n    <tr>\n      <th>date</th>\n      <th></th>\n      <th></th>\n      <th></th>\n      <th></th>\n      <th></th>\n      <th></th>\n      <th></th>\n      <th></th>\n    </tr>\n  </thead>\n  <tbody>\n    <tr>\n      <th>2013-06-06</th>\n      <td>3353.536</td>\n      <td>3367.362</td>\n      <td>3325.742</td>\n      <td>3331.724</td>\n      <td>6.976691e+08</td>\n      <td>10</td>\n      <td>33257.42</td>\n      <td>3325.742</td>\n    </tr>\n    <tr>\n      <th>2013-06-07</th>\n      <td>3325.795</td>\n      <td>3338.029</td>\n      <td>3264.914</td>\n      <td>3276.253</td>\n      <td>7.975941e+08</td>\n      <td>10</td>\n      <td>32649.14</td>\n      <td>3264.914</td>\n    </tr>\n    <tr>\n      <th>2013-06-13</th>\n      <td>3227.157</td>\n      <td>3227.157</td>\n      <td>3138.502</td>\n      <td>3170.727</td>\n      <td>9.214073e+08</td>\n      <td>10</td>\n      <td>31385.02</td>\n      <td>3138.502</td>\n    </tr>\n    <tr>\n      <th>2013-06-14</th>\n      <td>3168.941</td>\n      <td>3190.161</td>\n      <td>3157.245</td>\n      <td>3184.553</td>\n      <td>7.290986e+08</td>\n      <td>10</td>\n      <td>31572.45</td>\n      <td>3157.245</td>\n    </tr>\n    <tr>\n      <th>2013-06-17</th>\n      <td>3189.969</td>\n      <td>3196.282</td>\n      <td>3153.118</td>\n      <td>3158.014</td>\n      <td>7.514038e+08</td>\n      <td>10</td>\n      <td>31531.18</td>\n      <td>3153.118</td>\n    </tr>\n    <tr>\n      <th>...</th>\n      <td>...</td>\n      <td>...</td>\n      <td>...</td>\n      <td>...</td>\n      <td>...</td>\n      <td>...</td>\n      <td>...</td>\n      <td>...</td>\n    </tr>\n    <tr>\n      <th>2020-09-23</th>\n      <td>9214.969</td>\n      <td>9263.115</td>\n      <td>9180.321</td>\n      <td>9234.345</td>\n      <td>1.481302e+09</td>\n      <td>10</td>\n      <td>91803.21</td>\n      <td>9180.321</td>\n    </tr>\n    <tr>\n      <th>2020-09-24</th>\n      <td>9188.353</td>\n      <td>9191.744</td>\n      <td>9049.578</td>\n      <td>9058.851</td>\n      <td>1.918573e+09</td>\n      <td>10</td>\n      <td>90495.78</td>\n      <td>9049.578</td>\n    </tr>\n    <tr>\n      <th>2020-09-25</th>\n      <td>9094.657</td>\n      <td>9111.857</td>\n      <td>9004.454</td>\n      <td>9032.289</td>\n      <td>1.370887e+09</td>\n      <td>10</td>\n      <td>90044.54</td>\n      <td>9004.454</td>\n    </tr>\n    <tr>\n      <th>2020-09-28</th>\n      <td>9058.896</td>\n      <td>9132.954</td>\n      <td>9058.896</td>\n      <td>9075.179</td>\n      <td>1.246891e+09</td>\n      <td>10</td>\n      <td>90588.96</td>\n      <td>9058.896</td>\n    </tr>\n    <tr>\n      <th>2020-09-29</th>\n      <td>9117.255</td>\n      <td>9133.399</td>\n      <td>9081.665</td>\n      <td>9084.236</td>\n      <td>1.481702e+09</td>\n      <td>10</td>\n      <td>90816.65</td>\n      <td>9081.665</td>\n    </tr>\n  </tbody>\n</table>\n<p>1785 rows × 8 columns</p>\n</div>"
     },
     "metadata": {},
     "execution_count": 46
    }
   ],
   "source": [
    "stock_zh_index_daily_df"
   ]
  },
  {
   "cell_type": "code",
   "execution_count": 87,
   "metadata": {
    "tags": []
   },
   "outputs": [],
   "source": [
    "test2 = stock_zh_index_daily_df.iloc[[0,1,2,3]]\n",
    "# randomNum= 1\n",
    "# n = 12\n",
    "# list(range(randomNum,randomNum+30 *(n-1)+1,30))"
   ]
  },
  {
   "cell_type": "code",
   "execution_count": 88,
   "metadata": {},
   "outputs": [
    {
     "output_type": "execute_result",
     "data": {
      "text/plain": "                open      high       low     close       volume  num  \\\ndate                                                                   \n2013-06-06  3353.536  3367.362  3325.742  3331.724  697669056.0   10   \n2013-06-07  3325.795  3338.029  3264.914  3276.253  797594112.0   10   \n2013-06-13  3227.157  3227.157  3138.502  3170.727  921407296.0   10   \n2013-06-14  3168.941  3190.161  3157.245  3184.553  729098624.0   10   \n\n                cost       avg  \ndate                            \n2013-06-06  33257.42  3325.742  \n2013-06-07  32649.14  3264.914  \n2013-06-13  31385.02  3138.502  \n2013-06-14  31572.45  3157.245  ",
      "text/html": "<div>\n<style scoped>\n    .dataframe tbody tr th:only-of-type {\n        vertical-align: middle;\n    }\n\n    .dataframe tbody tr th {\n        vertical-align: top;\n    }\n\n    .dataframe thead th {\n        text-align: right;\n    }\n</style>\n<table border=\"1\" class=\"dataframe\">\n  <thead>\n    <tr style=\"text-align: right;\">\n      <th></th>\n      <th>open</th>\n      <th>high</th>\n      <th>low</th>\n      <th>close</th>\n      <th>volume</th>\n      <th>num</th>\n      <th>cost</th>\n      <th>avg</th>\n    </tr>\n    <tr>\n      <th>date</th>\n      <th></th>\n      <th></th>\n      <th></th>\n      <th></th>\n      <th></th>\n      <th></th>\n      <th></th>\n      <th></th>\n    </tr>\n  </thead>\n  <tbody>\n    <tr>\n      <th>2013-06-06</th>\n      <td>3353.536</td>\n      <td>3367.362</td>\n      <td>3325.742</td>\n      <td>3331.724</td>\n      <td>697669056.0</td>\n      <td>10</td>\n      <td>33257.42</td>\n      <td>3325.742</td>\n    </tr>\n    <tr>\n      <th>2013-06-07</th>\n      <td>3325.795</td>\n      <td>3338.029</td>\n      <td>3264.914</td>\n      <td>3276.253</td>\n      <td>797594112.0</td>\n      <td>10</td>\n      <td>32649.14</td>\n      <td>3264.914</td>\n    </tr>\n    <tr>\n      <th>2013-06-13</th>\n      <td>3227.157</td>\n      <td>3227.157</td>\n      <td>3138.502</td>\n      <td>3170.727</td>\n      <td>921407296.0</td>\n      <td>10</td>\n      <td>31385.02</td>\n      <td>3138.502</td>\n    </tr>\n    <tr>\n      <th>2013-06-14</th>\n      <td>3168.941</td>\n      <td>3190.161</td>\n      <td>3157.245</td>\n      <td>3184.553</td>\n      <td>729098624.0</td>\n      <td>10</td>\n      <td>31572.45</td>\n      <td>3157.245</td>\n    </tr>\n  </tbody>\n</table>\n</div>"
     },
     "metadata": {},
     "execution_count": 88
    }
   ],
   "source": [
    "test2"
   ]
  },
  {
   "cell_type": "code",
   "execution_count": 112,
   "metadata": {
    "tags": []
   },
   "outputs": [],
   "source": [
    "def dif(df):\n",
    "    q = [] #--涨幅 %\n",
    "    p = [] \n",
    "    for i in range(0,len(df)):\n",
    "        cost_all = sum(df['avg'].iloc[0:i])\n",
    "        cost_now = df['avg'].iloc[i]*i\n",
    "        q.append(cost_now - cost_all)\n",
    "        p.append((cost_now - cost_all) / cost_all * 100)\n",
    "\n",
    "    df['q'] = q\n",
    "    df['p'] = p\n",
    "    # print(q)\n",
    "\n",
    "dif(test2)\n",
    "\n",
    "#     df['dif'] = df.apply(lambda x: x['avg']-df['avg'][0], axis=1)\n",
    "# dif(test2)\n",
    "# sum(test2['avg'].iloc[0:2])"
   ]
  },
  {
   "cell_type": "code",
   "execution_count": 123,
   "metadata": {
    "tags": []
   },
   "outputs": [],
   "source": [
    "test3  = test2.set_index(keys=['index_s'])"
   ]
  },
  {
   "cell_type": "code",
   "execution_count": 124,
   "metadata": {},
   "outputs": [
    {
     "output_type": "execute_result",
     "data": {
      "text/plain": "&lt;matplotlib.axes._subplots.AxesSubplot at 0x1a2cc4eeb8&gt;"
     },
     "metadata": {},
     "execution_count": 124
    },
    {
     "output_type": "display_data",
     "data": {
      "text/plain": "&lt;Figure size 432x288 with 1 Axes&gt;",
      "image/svg+xml": "<?xml version=\"1.0\" encoding=\"utf-8\" standalone=\"no\"?>\n<!DOCTYPE svg PUBLIC \"-//W3C//DTD SVG 1.1//EN\"\n  \"http://www.w3.org/Graphics/SVG/1.1/DTD/svg11.dtd\">\n<!-- Created with matplotlib (https://matplotlib.org/) -->\n<svg height=\"262.474375pt\" version=\"1.1\" viewBox=\"0 0 378.895313 262.474375\" width=\"378.895313pt\" xmlns=\"http://www.w3.org/2000/svg\" xmlns:xlink=\"http://www.w3.org/1999/xlink\">\n <defs>\n  <style type=\"text/css\">\n*{stroke-linecap:butt;stroke-linejoin:round;}\n  </style>\n </defs>\n <g id=\"figure_1\">\n  <g id=\"patch_1\">\n   <path d=\"M 0 262.474375 \nL 378.895313 262.474375 \nL 378.895313 0 \nL 0 0 \nz\n\" style=\"fill:none;\"/>\n  </g>\n  <g id=\"axes_1\">\n   <g id=\"patch_2\">\n    <path d=\"M 36.895313 224.64 \nL 371.695312 224.64 \nL 371.695312 7.2 \nL 36.895313 7.2 \nz\n\" style=\"fill:#ffffff;\"/>\n   </g>\n   <g id=\"matplotlib.axis_1\">\n    <g id=\"xtick_1\">\n     <g id=\"line2d_1\">\n      <defs>\n       <path d=\"M 0 0 \nL 0 3.5 \n\" id=\"mc7a50d05f2\" style=\"stroke:#000000;stroke-width:0.8;\"/>\n      </defs>\n      <g>\n       <use style=\"stroke:#000000;stroke-width:0.8;\" x=\"52.113494\" xlink:href=\"#mc7a50d05f2\" y=\"224.64\"/>\n      </g>\n     </g>\n     <g id=\"text_1\">\n      <!-- 0.0 -->\n      <defs>\n       <path d=\"M 31.78125 66.40625 \nQ 24.171875 66.40625 20.328125 58.90625 \nQ 16.5 51.421875 16.5 36.375 \nQ 16.5 21.390625 20.328125 13.890625 \nQ 24.171875 6.390625 31.78125 6.390625 \nQ 39.453125 6.390625 43.28125 13.890625 \nQ 47.125 21.390625 47.125 36.375 \nQ 47.125 51.421875 43.28125 58.90625 \nQ 39.453125 66.40625 31.78125 66.40625 \nz\nM 31.78125 74.21875 \nQ 44.046875 74.21875 50.515625 64.515625 \nQ 56.984375 54.828125 56.984375 36.375 \nQ 56.984375 17.96875 50.515625 8.265625 \nQ 44.046875 -1.421875 31.78125 -1.421875 \nQ 19.53125 -1.421875 13.0625 8.265625 \nQ 6.59375 17.96875 6.59375 36.375 \nQ 6.59375 54.828125 13.0625 64.515625 \nQ 19.53125 74.21875 31.78125 74.21875 \nz\n\" id=\"DejaVuSans-48\"/>\n       <path d=\"M 10.6875 12.40625 \nL 21 12.40625 \nL 21 0 \nL 10.6875 0 \nz\n\" id=\"DejaVuSans-46\"/>\n      </defs>\n      <g transform=\"translate(44.161932 239.238438)scale(0.1 -0.1)\">\n       <use xlink:href=\"#DejaVuSans-48\"/>\n       <use x=\"63.623047\" xlink:href=\"#DejaVuSans-46\"/>\n       <use x=\"95.410156\" xlink:href=\"#DejaVuSans-48\"/>\n      </g>\n     </g>\n    </g>\n    <g id=\"xtick_2\">\n     <g id=\"line2d_2\">\n      <g>\n       <use style=\"stroke:#000000;stroke-width:0.8;\" x=\"102.840767\" xlink:href=\"#mc7a50d05f2\" y=\"224.64\"/>\n      </g>\n     </g>\n     <g id=\"text_2\">\n      <!-- 0.5 -->\n      <defs>\n       <path d=\"M 10.796875 72.90625 \nL 49.515625 72.90625 \nL 49.515625 64.59375 \nL 19.828125 64.59375 \nL 19.828125 46.734375 \nQ 21.96875 47.46875 24.109375 47.828125 \nQ 26.265625 48.1875 28.421875 48.1875 \nQ 40.625 48.1875 47.75 41.5 \nQ 54.890625 34.8125 54.890625 23.390625 \nQ 54.890625 11.625 47.5625 5.09375 \nQ 40.234375 -1.421875 26.90625 -1.421875 \nQ 22.3125 -1.421875 17.546875 -0.640625 \nQ 12.796875 0.140625 7.71875 1.703125 \nL 7.71875 11.625 \nQ 12.109375 9.234375 16.796875 8.0625 \nQ 21.484375 6.890625 26.703125 6.890625 \nQ 35.15625 6.890625 40.078125 11.328125 \nQ 45.015625 15.765625 45.015625 23.390625 \nQ 45.015625 31 40.078125 35.4375 \nQ 35.15625 39.890625 26.703125 39.890625 \nQ 22.75 39.890625 18.8125 39.015625 \nQ 14.890625 38.140625 10.796875 36.28125 \nz\n\" id=\"DejaVuSans-53\"/>\n      </defs>\n      <g transform=\"translate(94.889205 239.238438)scale(0.1 -0.1)\">\n       <use xlink:href=\"#DejaVuSans-48\"/>\n       <use x=\"63.623047\" xlink:href=\"#DejaVuSans-46\"/>\n       <use x=\"95.410156\" xlink:href=\"#DejaVuSans-53\"/>\n      </g>\n     </g>\n    </g>\n    <g id=\"xtick_3\">\n     <g id=\"line2d_3\">\n      <g>\n       <use style=\"stroke:#000000;stroke-width:0.8;\" x=\"153.56804\" xlink:href=\"#mc7a50d05f2\" y=\"224.64\"/>\n      </g>\n     </g>\n     <g id=\"text_3\">\n      <!-- 1.0 -->\n      <defs>\n       <path d=\"M 12.40625 8.296875 \nL 28.515625 8.296875 \nL 28.515625 63.921875 \nL 10.984375 60.40625 \nL 10.984375 69.390625 \nL 28.421875 72.90625 \nL 38.28125 72.90625 \nL 38.28125 8.296875 \nL 54.390625 8.296875 \nL 54.390625 0 \nL 12.40625 0 \nz\n\" id=\"DejaVuSans-49\"/>\n      </defs>\n      <g transform=\"translate(145.616477 239.238438)scale(0.1 -0.1)\">\n       <use xlink:href=\"#DejaVuSans-49\"/>\n       <use x=\"63.623047\" xlink:href=\"#DejaVuSans-46\"/>\n       <use x=\"95.410156\" xlink:href=\"#DejaVuSans-48\"/>\n      </g>\n     </g>\n    </g>\n    <g id=\"xtick_4\">\n     <g id=\"line2d_4\">\n      <g>\n       <use style=\"stroke:#000000;stroke-width:0.8;\" x=\"204.295313\" xlink:href=\"#mc7a50d05f2\" y=\"224.64\"/>\n      </g>\n     </g>\n     <g id=\"text_4\">\n      <!-- 1.5 -->\n      <g transform=\"translate(196.34375 239.238438)scale(0.1 -0.1)\">\n       <use xlink:href=\"#DejaVuSans-49\"/>\n       <use x=\"63.623047\" xlink:href=\"#DejaVuSans-46\"/>\n       <use x=\"95.410156\" xlink:href=\"#DejaVuSans-53\"/>\n      </g>\n     </g>\n    </g>\n    <g id=\"xtick_5\">\n     <g id=\"line2d_5\">\n      <g>\n       <use style=\"stroke:#000000;stroke-width:0.8;\" x=\"255.022585\" xlink:href=\"#mc7a50d05f2\" y=\"224.64\"/>\n      </g>\n     </g>\n     <g id=\"text_5\">\n      <!-- 2.0 -->\n      <defs>\n       <path d=\"M 19.1875 8.296875 \nL 53.609375 8.296875 \nL 53.609375 0 \nL 7.328125 0 \nL 7.328125 8.296875 \nQ 12.9375 14.109375 22.625 23.890625 \nQ 32.328125 33.6875 34.8125 36.53125 \nQ 39.546875 41.84375 41.421875 45.53125 \nQ 43.3125 49.21875 43.3125 52.78125 \nQ 43.3125 58.59375 39.234375 62.25 \nQ 35.15625 65.921875 28.609375 65.921875 \nQ 23.96875 65.921875 18.8125 64.3125 \nQ 13.671875 62.703125 7.8125 59.421875 \nL 7.8125 69.390625 \nQ 13.765625 71.78125 18.9375 73 \nQ 24.125 74.21875 28.421875 74.21875 \nQ 39.75 74.21875 46.484375 68.546875 \nQ 53.21875 62.890625 53.21875 53.421875 \nQ 53.21875 48.921875 51.53125 44.890625 \nQ 49.859375 40.875 45.40625 35.40625 \nQ 44.1875 33.984375 37.640625 27.21875 \nQ 31.109375 20.453125 19.1875 8.296875 \nz\n\" id=\"DejaVuSans-50\"/>\n      </defs>\n      <g transform=\"translate(247.071023 239.238438)scale(0.1 -0.1)\">\n       <use xlink:href=\"#DejaVuSans-50\"/>\n       <use x=\"63.623047\" xlink:href=\"#DejaVuSans-46\"/>\n       <use x=\"95.410156\" xlink:href=\"#DejaVuSans-48\"/>\n      </g>\n     </g>\n    </g>\n    <g id=\"xtick_6\">\n     <g id=\"line2d_6\">\n      <g>\n       <use style=\"stroke:#000000;stroke-width:0.8;\" x=\"305.749858\" xlink:href=\"#mc7a50d05f2\" y=\"224.64\"/>\n      </g>\n     </g>\n     <g id=\"text_6\">\n      <!-- 2.5 -->\n      <g transform=\"translate(297.798295 239.238438)scale(0.1 -0.1)\">\n       <use xlink:href=\"#DejaVuSans-50\"/>\n       <use x=\"63.623047\" xlink:href=\"#DejaVuSans-46\"/>\n       <use x=\"95.410156\" xlink:href=\"#DejaVuSans-53\"/>\n      </g>\n     </g>\n    </g>\n    <g id=\"xtick_7\">\n     <g id=\"line2d_7\">\n      <g>\n       <use style=\"stroke:#000000;stroke-width:0.8;\" x=\"356.477131\" xlink:href=\"#mc7a50d05f2\" y=\"224.64\"/>\n      </g>\n     </g>\n     <g id=\"text_7\">\n      <!-- 3.0 -->\n      <defs>\n       <path d=\"M 40.578125 39.3125 \nQ 47.65625 37.796875 51.625 33 \nQ 55.609375 28.21875 55.609375 21.1875 \nQ 55.609375 10.40625 48.1875 4.484375 \nQ 40.765625 -1.421875 27.09375 -1.421875 \nQ 22.515625 -1.421875 17.65625 -0.515625 \nQ 12.796875 0.390625 7.625 2.203125 \nL 7.625 11.71875 \nQ 11.71875 9.328125 16.59375 8.109375 \nQ 21.484375 6.890625 26.8125 6.890625 \nQ 36.078125 6.890625 40.9375 10.546875 \nQ 45.796875 14.203125 45.796875 21.1875 \nQ 45.796875 27.640625 41.28125 31.265625 \nQ 36.765625 34.90625 28.71875 34.90625 \nL 20.21875 34.90625 \nL 20.21875 43.015625 \nL 29.109375 43.015625 \nQ 36.375 43.015625 40.234375 45.921875 \nQ 44.09375 48.828125 44.09375 54.296875 \nQ 44.09375 59.90625 40.109375 62.90625 \nQ 36.140625 65.921875 28.71875 65.921875 \nQ 24.65625 65.921875 20.015625 65.03125 \nQ 15.375 64.15625 9.8125 62.3125 \nL 9.8125 71.09375 \nQ 15.4375 72.65625 20.34375 73.4375 \nQ 25.25 74.21875 29.59375 74.21875 \nQ 40.828125 74.21875 47.359375 69.109375 \nQ 53.90625 64.015625 53.90625 55.328125 \nQ 53.90625 49.265625 50.4375 45.09375 \nQ 46.96875 40.921875 40.578125 39.3125 \nz\n\" id=\"DejaVuSans-51\"/>\n      </defs>\n      <g transform=\"translate(348.525568 239.238438)scale(0.1 -0.1)\">\n       <use xlink:href=\"#DejaVuSans-51\"/>\n       <use x=\"63.623047\" xlink:href=\"#DejaVuSans-46\"/>\n       <use x=\"95.410156\" xlink:href=\"#DejaVuSans-48\"/>\n      </g>\n     </g>\n    </g>\n    <g id=\"text_8\">\n     <!-- index_s -->\n     <defs>\n      <path d=\"M 9.421875 54.6875 \nL 18.40625 54.6875 \nL 18.40625 0 \nL 9.421875 0 \nz\nM 9.421875 75.984375 \nL 18.40625 75.984375 \nL 18.40625 64.59375 \nL 9.421875 64.59375 \nz\n\" id=\"DejaVuSans-105\"/>\n      <path d=\"M 54.890625 33.015625 \nL 54.890625 0 \nL 45.90625 0 \nL 45.90625 32.71875 \nQ 45.90625 40.484375 42.875 44.328125 \nQ 39.84375 48.1875 33.796875 48.1875 \nQ 26.515625 48.1875 22.3125 43.546875 \nQ 18.109375 38.921875 18.109375 30.90625 \nL 18.109375 0 \nL 9.078125 0 \nL 9.078125 54.6875 \nL 18.109375 54.6875 \nL 18.109375 46.1875 \nQ 21.34375 51.125 25.703125 53.5625 \nQ 30.078125 56 35.796875 56 \nQ 45.21875 56 50.046875 50.171875 \nQ 54.890625 44.34375 54.890625 33.015625 \nz\n\" id=\"DejaVuSans-110\"/>\n      <path d=\"M 45.40625 46.390625 \nL 45.40625 75.984375 \nL 54.390625 75.984375 \nL 54.390625 0 \nL 45.40625 0 \nL 45.40625 8.203125 \nQ 42.578125 3.328125 38.25 0.953125 \nQ 33.9375 -1.421875 27.875 -1.421875 \nQ 17.96875 -1.421875 11.734375 6.484375 \nQ 5.515625 14.40625 5.515625 27.296875 \nQ 5.515625 40.1875 11.734375 48.09375 \nQ 17.96875 56 27.875 56 \nQ 33.9375 56 38.25 53.625 \nQ 42.578125 51.265625 45.40625 46.390625 \nz\nM 14.796875 27.296875 \nQ 14.796875 17.390625 18.875 11.75 \nQ 22.953125 6.109375 30.078125 6.109375 \nQ 37.203125 6.109375 41.296875 11.75 \nQ 45.40625 17.390625 45.40625 27.296875 \nQ 45.40625 37.203125 41.296875 42.84375 \nQ 37.203125 48.484375 30.078125 48.484375 \nQ 22.953125 48.484375 18.875 42.84375 \nQ 14.796875 37.203125 14.796875 27.296875 \nz\n\" id=\"DejaVuSans-100\"/>\n      <path d=\"M 56.203125 29.59375 \nL 56.203125 25.203125 \nL 14.890625 25.203125 \nQ 15.484375 15.921875 20.484375 11.0625 \nQ 25.484375 6.203125 34.421875 6.203125 \nQ 39.59375 6.203125 44.453125 7.46875 \nQ 49.3125 8.734375 54.109375 11.28125 \nL 54.109375 2.78125 \nQ 49.265625 0.734375 44.1875 -0.34375 \nQ 39.109375 -1.421875 33.890625 -1.421875 \nQ 20.796875 -1.421875 13.15625 6.1875 \nQ 5.515625 13.8125 5.515625 26.8125 \nQ 5.515625 40.234375 12.765625 48.109375 \nQ 20.015625 56 32.328125 56 \nQ 43.359375 56 49.78125 48.890625 \nQ 56.203125 41.796875 56.203125 29.59375 \nz\nM 47.21875 32.234375 \nQ 47.125 39.59375 43.09375 43.984375 \nQ 39.0625 48.390625 32.421875 48.390625 \nQ 24.90625 48.390625 20.390625 44.140625 \nQ 15.875 39.890625 15.1875 32.171875 \nz\n\" id=\"DejaVuSans-101\"/>\n      <path d=\"M 54.890625 54.6875 \nL 35.109375 28.078125 \nL 55.90625 0 \nL 45.3125 0 \nL 29.390625 21.484375 \nL 13.484375 0 \nL 2.875 0 \nL 24.125 28.609375 \nL 4.6875 54.6875 \nL 15.28125 54.6875 \nL 29.78125 35.203125 \nL 44.28125 54.6875 \nz\n\" id=\"DejaVuSans-120\"/>\n      <path d=\"M 50.984375 -16.609375 \nL 50.984375 -23.578125 \nL -0.984375 -23.578125 \nL -0.984375 -16.609375 \nz\n\" id=\"DejaVuSans-95\"/>\n      <path d=\"M 44.28125 53.078125 \nL 44.28125 44.578125 \nQ 40.484375 46.53125 36.375 47.5 \nQ 32.28125 48.484375 27.875 48.484375 \nQ 21.1875 48.484375 17.84375 46.4375 \nQ 14.5 44.390625 14.5 40.28125 \nQ 14.5 37.15625 16.890625 35.375 \nQ 19.28125 33.59375 26.515625 31.984375 \nL 29.59375 31.296875 \nQ 39.15625 29.25 43.1875 25.515625 \nQ 47.21875 21.78125 47.21875 15.09375 \nQ 47.21875 7.46875 41.1875 3.015625 \nQ 35.15625 -1.421875 24.609375 -1.421875 \nQ 20.21875 -1.421875 15.453125 -0.5625 \nQ 10.6875 0.296875 5.421875 2 \nL 5.421875 11.28125 \nQ 10.40625 8.6875 15.234375 7.390625 \nQ 20.0625 6.109375 24.8125 6.109375 \nQ 31.15625 6.109375 34.5625 8.28125 \nQ 37.984375 10.453125 37.984375 14.40625 \nQ 37.984375 18.0625 35.515625 20.015625 \nQ 33.0625 21.96875 24.703125 23.78125 \nL 21.578125 24.515625 \nQ 13.234375 26.265625 9.515625 29.90625 \nQ 5.8125 33.546875 5.8125 39.890625 \nQ 5.8125 47.609375 11.28125 51.796875 \nQ 16.75 56 26.8125 56 \nQ 31.78125 56 36.171875 55.265625 \nQ 40.578125 54.546875 44.28125 53.078125 \nz\n\" id=\"DejaVuSans-115\"/>\n     </defs>\n     <g transform=\"translate(185.510156 252.916562)scale(0.1 -0.1)\">\n      <use xlink:href=\"#DejaVuSans-105\"/>\n      <use x=\"27.783203\" xlink:href=\"#DejaVuSans-110\"/>\n      <use x=\"91.162109\" xlink:href=\"#DejaVuSans-100\"/>\n      <use x=\"154.638672\" xlink:href=\"#DejaVuSans-101\"/>\n      <use x=\"214.412109\" xlink:href=\"#DejaVuSans-120\"/>\n      <use x=\"273.591797\" xlink:href=\"#DejaVuSans-95\"/>\n      <use x=\"323.591797\" xlink:href=\"#DejaVuSans-115\"/>\n     </g>\n    </g>\n   </g>\n   <g id=\"matplotlib.axis_2\">\n    <g id=\"ytick_1\">\n     <g id=\"line2d_8\">\n      <defs>\n       <path d=\"M 0 0 \nL -3.5 0 \n\" id=\"mebb6428d16\" style=\"stroke:#000000;stroke-width:0.8;\"/>\n      </defs>\n      <g>\n       <use style=\"stroke:#000000;stroke-width:0.8;\" x=\"36.895313\" xlink:href=\"#mebb6428d16\" y=\"206.152471\"/>\n      </g>\n     </g>\n     <g id=\"text_9\">\n      <!-- -300 -->\n      <defs>\n       <path d=\"M 4.890625 31.390625 \nL 31.203125 31.390625 \nL 31.203125 23.390625 \nL 4.890625 23.390625 \nz\n\" id=\"DejaVuSans-45\"/>\n      </defs>\n      <g transform=\"translate(7.2 209.95169)scale(0.1 -0.1)\">\n       <use xlink:href=\"#DejaVuSans-45\"/>\n       <use x=\"36.083984\" xlink:href=\"#DejaVuSans-51\"/>\n       <use x=\"99.707031\" xlink:href=\"#DejaVuSans-48\"/>\n       <use x=\"163.330078\" xlink:href=\"#DejaVuSans-48\"/>\n      </g>\n     </g>\n    </g>\n    <g id=\"ytick_2\">\n     <g id=\"line2d_9\">\n      <g>\n       <use style=\"stroke:#000000;stroke-width:0.8;\" x=\"36.895313\" xlink:href=\"#mebb6428d16\" y=\"174.640999\"/>\n      </g>\n     </g>\n     <g id=\"text_10\">\n      <!-- -250 -->\n      <g transform=\"translate(7.2 178.440217)scale(0.1 -0.1)\">\n       <use xlink:href=\"#DejaVuSans-45\"/>\n       <use x=\"36.083984\" xlink:href=\"#DejaVuSans-50\"/>\n       <use x=\"99.707031\" xlink:href=\"#DejaVuSans-53\"/>\n       <use x=\"163.330078\" xlink:href=\"#DejaVuSans-48\"/>\n      </g>\n     </g>\n    </g>\n    <g id=\"ytick_3\">\n     <g id=\"line2d_10\">\n      <g>\n       <use style=\"stroke:#000000;stroke-width:0.8;\" x=\"36.895313\" xlink:href=\"#mebb6428d16\" y=\"143.129526\"/>\n      </g>\n     </g>\n     <g id=\"text_11\">\n      <!-- -200 -->\n      <g transform=\"translate(7.2 146.928745)scale(0.1 -0.1)\">\n       <use xlink:href=\"#DejaVuSans-45\"/>\n       <use x=\"36.083984\" xlink:href=\"#DejaVuSans-50\"/>\n       <use x=\"99.707031\" xlink:href=\"#DejaVuSans-48\"/>\n       <use x=\"163.330078\" xlink:href=\"#DejaVuSans-48\"/>\n      </g>\n     </g>\n    </g>\n    <g id=\"ytick_4\">\n     <g id=\"line2d_11\">\n      <g>\n       <use style=\"stroke:#000000;stroke-width:0.8;\" x=\"36.895313\" xlink:href=\"#mebb6428d16\" y=\"111.618054\"/>\n      </g>\n     </g>\n     <g id=\"text_12\">\n      <!-- -150 -->\n      <g transform=\"translate(7.2 115.417273)scale(0.1 -0.1)\">\n       <use xlink:href=\"#DejaVuSans-45\"/>\n       <use x=\"36.083984\" xlink:href=\"#DejaVuSans-49\"/>\n       <use x=\"99.707031\" xlink:href=\"#DejaVuSans-53\"/>\n       <use x=\"163.330078\" xlink:href=\"#DejaVuSans-48\"/>\n      </g>\n     </g>\n    </g>\n    <g id=\"ytick_5\">\n     <g id=\"line2d_12\">\n      <g>\n       <use style=\"stroke:#000000;stroke-width:0.8;\" x=\"36.895313\" xlink:href=\"#mebb6428d16\" y=\"80.106581\"/>\n      </g>\n     </g>\n     <g id=\"text_13\">\n      <!-- -100 -->\n      <g transform=\"translate(7.2 83.9058)scale(0.1 -0.1)\">\n       <use xlink:href=\"#DejaVuSans-45\"/>\n       <use x=\"36.083984\" xlink:href=\"#DejaVuSans-49\"/>\n       <use x=\"99.707031\" xlink:href=\"#DejaVuSans-48\"/>\n       <use x=\"163.330078\" xlink:href=\"#DejaVuSans-48\"/>\n      </g>\n     </g>\n    </g>\n    <g id=\"ytick_6\">\n     <g id=\"line2d_13\">\n      <g>\n       <use style=\"stroke:#000000;stroke-width:0.8;\" x=\"36.895313\" xlink:href=\"#mebb6428d16\" y=\"48.595109\"/>\n      </g>\n     </g>\n     <g id=\"text_14\">\n      <!-- -50 -->\n      <g transform=\"translate(13.5625 52.394328)scale(0.1 -0.1)\">\n       <use xlink:href=\"#DejaVuSans-45\"/>\n       <use x=\"36.083984\" xlink:href=\"#DejaVuSans-53\"/>\n       <use x=\"99.707031\" xlink:href=\"#DejaVuSans-48\"/>\n      </g>\n     </g>\n    </g>\n    <g id=\"ytick_7\">\n     <g id=\"line2d_14\">\n      <g>\n       <use style=\"stroke:#000000;stroke-width:0.8;\" x=\"36.895313\" xlink:href=\"#mebb6428d16\" y=\"17.083636\"/>\n      </g>\n     </g>\n     <g id=\"text_15\">\n      <!-- 0 -->\n      <g transform=\"translate(23.532813 20.882855)scale(0.1 -0.1)\">\n       <use xlink:href=\"#DejaVuSans-48\"/>\n      </g>\n     </g>\n    </g>\n   </g>\n   <g id=\"line2d_15\">\n    <path clip-path=\"url(#p161f5c8d6a)\" d=\"M 52.113494 17.083636 \nL 153.56804 55.419233 \nL 255.022585 214.756364 \nL 356.477131 179.319192 \n\" style=\"fill:none;stroke:#1f77b4;stroke-linecap:square;stroke-width:1.5;\"/>\n   </g>\n   <g id=\"patch_3\">\n    <path d=\"M 36.895313 224.64 \nL 36.895313 7.2 \n\" style=\"fill:none;stroke:#000000;stroke-linecap:square;stroke-linejoin:miter;stroke-width:0.8;\"/>\n   </g>\n   <g id=\"patch_4\">\n    <path d=\"M 371.695312 224.64 \nL 371.695312 7.2 \n\" style=\"fill:none;stroke:#000000;stroke-linecap:square;stroke-linejoin:miter;stroke-width:0.8;\"/>\n   </g>\n   <g id=\"patch_5\">\n    <path d=\"M 36.895313 224.64 \nL 371.695313 224.64 \n\" style=\"fill:none;stroke:#000000;stroke-linecap:square;stroke-linejoin:miter;stroke-width:0.8;\"/>\n   </g>\n   <g id=\"patch_6\">\n    <path d=\"M 36.895313 7.2 \nL 371.695313 7.2 \n\" style=\"fill:none;stroke:#000000;stroke-linecap:square;stroke-linejoin:miter;stroke-width:0.8;\"/>\n   </g>\n  </g>\n </g>\n <defs>\n  <clipPath id=\"p161f5c8d6a\">\n   <rect height=\"217.44\" width=\"334.8\" x=\"36.895313\" y=\"7.2\"/>\n  </clipPath>\n </defs>\n</svg>\n",
      "image/png": "[encoded data removed]"
     },
     "metadata": {
      "needs_background": "light"
     }
    }
   ],
   "source": [
    "test3['q'].plot()"
   ]
  },
  {
   "cell_type": "code",
   "execution_count": 86,
   "metadata": {},
   "outputs": [
    {
     "output_type": "error",
     "ename": "SyntaxError",
     "evalue": "invalid syntax (&lt;ipython-input-86-65f4fe476020&gt;, line 16)",
     "traceback": [
      "\u001b[0;36m  File \u001b[0;32m&quot;&lt;ipython-input-86-65f4fe476020&gt;&quot;\u001b[0;36m, line \u001b[0;32m16\u001b[0m\n\u001b[0;31m    def proceeds(x)\u001b[0m\n\u001b[0m                   ^\u001b[0m\n\u001b[0;31mSyntaxError\u001b[0m\u001b[0;31m:\u001b[0m invalid syntax\n"
     ]
    }
   ],
   "source": [
    "# 正式编写程序\n",
    "import random\n",
    "list_randomNum = random.sample(range(0,1425),200)\n",
    "# 生成随机数，不重复正整数\n",
    "def sampling(randomNum,m,n):\n",
    "    # m为时间跨度一般为22个工作日\n",
    "    # n为周期数，取12个月\n",
    "    list_index = list(range(randomNum,randomNum+m*(n-1)+1,30))\n",
    "    pd_sampling = stock_zh_index_daily_df.iloc[list_index]\n",
    "\n",
    "    return pd_sampling\n",
    "\n",
    "\n",
    "\n",
    "\n",
    "\n",
    "\n",
    "\n",
    "def proceeds(x)\n"
   ]
  },
  {
   "cell_type": "code",
   "execution_count": null,
   "metadata": {},
   "outputs": [],
   "source": []
  }
 ]
}